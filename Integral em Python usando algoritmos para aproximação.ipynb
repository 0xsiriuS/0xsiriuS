{
  "nbformat": 4,
  "nbformat_minor": 0,
  "metadata": {
    "colab": {
      "name": "GABRIEL ROGER DE LIRA LIMA - Método de Simpson ",
      "provenance": [],
      "collapsed_sections": []
    },
    "kernelspec": {
      "name": "python3",
      "display_name": "Python 3"
    },
    "language_info": {
      "name": "python"
    }
  },
  "cells": [
    {
      "cell_type": "markdown",
      "metadata": {
        "id": "Bdjc5Ac1KABW"
      },
      "source": [
        "#Atividade  de Cálculo Numérico - 25 de Outubro de 2021\n",
        "Prof. Emerson Lima\n",
        "#Integração Numérica. Método de Simpson 1/3"
      ]
    },
    {
      "cell_type": "code",
      "metadata": {
        "id": "ygJ6zDOcN5Br"
      },
      "source": [
        "import numpy as np\n",
        "import matplotlib.pyplot as plt"
      ],
      "execution_count": null,
      "outputs": []
    },
    {
      "cell_type": "code",
      "metadata": {
        "id": "3B5lx52DKQjW"
      },
      "source": [
        "# A função teste a ser integrada será f(x)=x^2\n",
        "# Para essa função, int_0^1 x^2 dx = x^3/3 (x=0..1) = 1/3\n",
        "def funcao_x2(x):\n",
        "  return(x**2)\n"
      ],
      "execution_count": null,
      "outputs": []
    },
    {
      "cell_type": "markdown",
      "metadata": {
        "id": "qYGvgoQzNloM"
      },
      "source": [
        "**Implementação C/Java Like**"
      ]
    },
    {
      "cell_type": "code",
      "metadata": {
        "id": "o97MNrCMNsd1"
      },
      "source": [
        "n = int(input('Entre com o número de subdivisões do intervalo 0..1: '))\n",
        "deltax = 1/n # (b-a)/n com a=0 e b=1\n",
        "xi = 0\n",
        "soma = funcao_x2(xi)*deltax\n",
        "for i in range(1,n):\n",
        "  xi = xi + deltax\n",
        "  soma += funcao_x2(xi)*deltax #soma = soma + xi*deltax\n",
        "print('O valor da integral de x^2 variando de 0 a 1 é ',soma,'onde utilizamos ',n,'divisões do intervalo')\n"
      ],
      "execution_count": null,
      "outputs": []
    },
    {
      "cell_type": "markdown",
      "metadata": {
        "id": "OwOhnrnkP2dB"
      },
      "source": [
        "**Implementação Python like**"
      ]
    },
    {
      "cell_type": "code",
      "metadata": {
        "id": "L3eRUevlPubM"
      },
      "source": [
        "n = int(input('Entre com o número de subdivisões do intervalo 0..1: '))\n",
        "x = np.linspace(0,1,n)\n",
        "soma = np.sum((1/n)*funcao_x2(x[0:n]))\n",
        "print('O valor da integral de x^2 variando de 0 a 1 é ',soma,'onde utilizamos ',n,'divisões do intervalo')"
      ],
      "execution_count": null,
      "outputs": []
    },
    {
      "cell_type": "markdown",
      "metadata": {
        "id": "HCv_ZaOSRtdi"
      },
      "source": [
        "*Vamos implementar o algoritmo de integração ele próprio como uma função*"
      ]
    },
    {
      "cell_type": "code",
      "metadata": {
        "id": "IHM0iuk8R1fR"
      },
      "source": [
        "import numpy as np\n",
        "def funcao_x3(x):\n",
        "  return(x**2)\n",
        "\n",
        "\n",
        "# Devolve o valor da integral pela fórmula de Riemann da função no intervalo a..b com n subdivisões\n",
        "def integracaoRiemann(funcao,a,b,n):\n",
        "  x = np.linspace(a,b,n)\n",
        "  return(((b-a)/(n+1))*np.sum(funcao(x[0:n])))\n",
        "\n",
        "a = float(input('Entre com o valor de a: '))\n",
        "b = float(input('Entre com o valor de b: '))\n",
        "n = int(input('Entre com o número de subdivisões do intervalo a..b: '))\n",
        "\n",
        "print('O valor da integral (de Riemann) da função x^2 no intervalo [',a,',',b,'] com ',n,'divisões é',integracaoRiemann(funcao_x3,a,b,n))\n",
        "print('O valor da integral (de Riemann) da função x^3 no intervalo [',a,',',b,'] com ',n,'divisões é',integracaoRiemann(funcao_x3,a,b,n))\n",
        "print('O valor da integral (de Riemann) da função seno no intervalo [',a,',',b,'] com ',n,'divisões é',integracaoRiemann(np.sin,a,b,n))"
      ],
      "execution_count": null,
      "outputs": []
    },
    {
      "cell_type": "markdown",
      "metadata": {
        "id": "vpTMm2RYVo4g"
      },
      "source": [
        ""
      ]
    },
    {
      "cell_type": "markdown",
      "metadata": {
        "id": "MumI1krkVtXT"
      },
      "source": [
        "*Ao invés de definir n a priori, o mais comum é acompanhar o erro entre iterações consecutivas \n",
        "e parar o cálculo quando não houver ganho no aumento de n:*"
      ]
    },
    {
      "cell_type": "code",
      "metadata": {
        "id": "EHtOFjLuVx-8"
      },
      "source": [
        "# tol é o valor de erro aceitável entre duas iterações consecutivas do algoritmo\n",
        "def integracaoAdaptativaRiemann(funcao,a,b,tol): \n",
        "  n = 1\n",
        "  valor1 = integracaoRiemann(funcao,a,b,n)\n",
        "  valor2 = integracaoRiemann(funcao,a,b,n+1)\n",
        "  while(np.abs(valor2-valor1)>tol):\n",
        "    n += 1\n",
        "    valor2 = valor1\n",
        "    valor1 = integracaoRiemann(funcao,a,b,n) \n",
        "  return(n,valor2)\n",
        "\n",
        "tol = float(input('Entre com o valor da tolerância do erro no algoritmo (um valor típico é 10^-3): '))\n",
        "iteracoes,valorintegral = integracaoAdaptativaRiemann(funcao_x2,0,1,tol)\n",
        "print('O valor da integral foi',valorintegral,'obtido com n = ',iteracoes,'iteracoes')\n",
        "\n"
      ],
      "execution_count": null,
      "outputs": []
    },
    {
      "cell_type": "markdown",
      "metadata": {
        "id": "Lzp61bB8bQn8"
      },
      "source": [
        "*Aqui vamos reimplementar o código de integração utilizando o método do trapézio, ou seja,*\n",
        "\n",
        "$\\int_a^b f(x) dx \\cong \\frac{\\Delta x}{2}((\\sum_{i=1}^{n-1} 2f(x_i))+f(x_0) + f(x_n))$ "
      ]
    },
    {
      "cell_type": "code",
      "metadata": {
        "id": "Dp_6uJFbcx5o"
      },
      "source": [
        "# Devolve o valor da integral pela fórmula do Trapézio da função no intervalo a..b com n subdivisões \n",
        "def integracaoTrapezio(funcao,a,b,n):\n",
        "  x = np.linspace(a,b,n)\n",
        "  return( 0.5*((b-a)/n) * (funcao(x[0]) + funcao(x[n-1]) +2*np.sum(funcao(x[1:n]))) )\n",
        "\n",
        "def integracaoAdaptativaTrapezio(funcao,a,b,tol): \n",
        "  n = 1\n",
        "  valor1 = integracaoTrapezio(funcao,a,b,n)\n",
        "  valor2 = integracaoTrapezio(funcao,a,b,n+1)\n",
        "  while(np.abs(valor2-valor1)>tol):\n",
        "    n += 1\n",
        "    valor2 = valor1\n",
        "    valor1 = integracaoTrapezio(funcao,a,b,n) \n",
        "  return(n,valor2)\n",
        "\n",
        "tol = float(input('Entre com o valor da tolerância do erro no algoritmo (um valor típico é 10^-3): '))\n",
        "iteracoes,valorintegral = integracaoAdaptativaTrapezio(funcao_x2,0,1,tol)\n",
        "print('O valor da integral foi',valorintegral,'obtido com n = ',iteracoes,'iteracoes')"
      ],
      "execution_count": null,
      "outputs": []
    },
    {
      "cell_type": "markdown",
      "metadata": {
        "id": "JRYSNhCyZqJn"
      },
      "source": [
        "Exercício 01:\n",
        "\n",
        "Mude a condição do laço While anterior para\n",
        "$\\frac{|valor_2-valor_1|}{|valor_1|}<tol$\n",
        "\n",
        "que mudança você observa na precisão do resultado ? \n",
        "\n",
        "**Responda criando um bloco de código com sua implementação seguido de um bloco de texto com sua resposta**"
      ]
    },
    {
      "cell_type": "markdown",
      "metadata": {
        "id": "KnKs4L5favVL"
      },
      "source": [
        "Exercício 02:\n",
        "\n",
        "Uma  regra bem usual de integração numérica é a regra de Simpson 1/3 cuja fórmula é dada por \n",
        "\n",
        "$\\int_a^b f(x) dx \\cong \\frac{\\Delta x}{3}\\left(\\left[\\sum_{j=1}^{n/2-1} 4f(x_{2j-1})+2f(x_{2j})\\right]\n",
        " + f(x_0) + f(x_n)\\right)$ \n",
        "\n",
        " onde,nessa técnica, n precisa ser um número par.\n",
        "\n",
        " Usando como modelo a implementação do método do trapézio, implemente essa técnica e compare  precisão com os métodos \n",
        "\n",
        "**Responda criando um bloco de código com sua implementação seguido de um bloco de texto com sua resposta**\n",
        "\n"
      ]
    },
    {
      "cell_type": "markdown",
      "metadata": {
        "id": "yUMa3BfNdkmH"
      },
      "source": [
        "**EXERCICIO 1 - Código**\n"
      ]
    },
    {
      "cell_type": "code",
      "metadata": {
        "colab": {
          "base_uri": "https://localhost:8080/"
        },
        "id": "8RevINPIduqR",
        "outputId": "4506b6fb-fa8a-4473-e912-72f2904ee08d"
      },
      "source": [
        "import numpy as np\n",
        "import time as tm\n",
        "\n",
        "def funcao_x2(x):\n",
        "  return(x**2)\n",
        "\n",
        "def intTrapezio(funcao,a,b,n):\n",
        "  x = np.linspace(a,b,n)\n",
        "  return( 0.5*((b-a)/n)*(funcao(x[0])+funcao(x[n-1])+2*np.sum(funcao(x[1:n]))) )\n",
        "\n",
        "def intAdapTrapezio(funcao,a,b,tol):\n",
        "  n = 1\n",
        "  v1 = intTrapezio(funcao,a,b,n)\n",
        "  v2 = intTrapezio(funcao,a,b,n+1)\n",
        "  while(np.abs(v2-v1)>tol):\n",
        "    n += 1\n",
        "    v2 = v1\n",
        "    v1 = intTrapezio(funcao,a,b,n)\n",
        "  return(n,v2)\n",
        "\n",
        "def intAdapOptTrapezio(funcao,a,b,tol):\n",
        "  n = 1\n",
        "  v1 = intTrapezio(funcao,a,b,n)\n",
        "  v2 = intTrapezio(funcao,a,b,n+1)\n",
        "  while(np.abs((v2-v1)/v1)>tol):\n",
        "    n += 1\n",
        "    v2 = v1\n",
        "    v1 = intTrapezio(funcao,a,b,n)\n",
        "  return(n,v2)\n",
        "\n",
        "def intAdapOptTrapezioTol(funcao,a,b,tol):\n",
        "  n = 1\n",
        "  v1 = intTrapezio(funcao,a,b,n)\n",
        "  v2 = intTrapezio(funcao,a,b,n+1)\n",
        "  while(np.abs((v2-v1)/v1)<tol):\n",
        "    n += 1\n",
        "    v2 = v1\n",
        "    v1 = intTrapezio(funcao,a,b,n)\n",
        "  return(n,v2)\n",
        "\n",
        "tol = float(input('Informe o valor da tolerância do erro (Use 10^-4): '))\n",
        "\n",
        "#Caso 1: (|v2-v1|>tol)\n",
        "contar_tempo = tm.time()\n",
        "iteracoes, valorInt = intAdapTrapezio(funcao_x2,0,1,tol)\n",
        "finalizar_tempo = time.time()\n",
        "tempo1 = finalizar_tempo - contar_tempo\n",
        "\n",
        "print('\\nO valor da integral sem optimização foi de,',valorInt,'obtido com',iteracoes,'iterações em',tempo1,'segundos')\n",
        "erro= np.abs((valorInt - (1/3))/(1/3))*100\n",
        "print('Erro Relativo:', round(erro,4),'%')\n",
        "\n",
        "#Caso 2: ((|v2-v1|)/|v1|>tol)\n",
        "contar_tempo_2 = time.time()\n",
        "iteracoes_2, valorInt_2 = intAdapOptTrapezio(funcao_x2,0,1,tol)\n",
        "finalizar_tempo_2 = tm.time()\n",
        "tempo2 = finalizar_tempo_2 - contar_tempo_2\n",
        "\n",
        "print('\\nO valor da integral com optimização foi de,',valorInt_2,'obtido com',iteracoes_2,'iterações em',tempo2, 'segundos')\n",
        "erro= np.abs((valorInt_2 - (1/3))/(1/3))*100\n",
        "print('Erro Relativo:', round(erro, 4),'%')\n",
        "\n",
        "#Caso 3: ((|v2-v1|)/|v1|<tol)\n",
        "contar_tempo_3 = tm.time()\n",
        "iteracoes_3, valorInt_3 = intAdapOptTrapezioTol(funcao_x2,0,1,tol)\n",
        "finalizar_tempo_3 = tm.time()\n",
        "tempo3 = finalizar_tempo_3 - contar_tempo_3\n",
        "\n",
        "print('\\nO valor da integral com optimização, mas com tolerância invertida foi de,',valorInt_3,'obtido com',iteracoes_3,'iterações em',tempo3, 'segundos')\n",
        "erro= np.abs((valorInt_3 - (1/3))/(1/3))*100\n",
        "print('Erro Relativo:',round(erro,4),'%\\n\\n\\n')\n"
      ],
      "execution_count": 21,
      "outputs": [
        {
          "output_type": "stream",
          "name": "stdout",
          "text": [
            "Informe o valor da tolerância do erro (Use 10^-4): 0.0001\n",
            "\n",
            "O valor da integral sem optimização foi de, 0.34148850747766735 obtido com 83 iterações em 0.005330801010131836 segundos\n",
            "Erro Relativo: 2.4466 %\n",
            "\n",
            "O valor da integral com optimização foi de, 0.3380699088145896 obtido com 142 iterações em 0.009943962097167969 segundos\n",
            "Erro Relativo: 1.421 %\n",
            "\n",
            "O valor da integral com optimização, mas com tolerância invertida foi de, 0.75 obtido com 1 iterações em 0.00037980079650878906 segundos\n",
            "Erro Relativo: 125.0 %\n",
            "\n",
            "\n",
            "\n"
          ]
        },
        {
          "output_type": "stream",
          "name": "stderr",
          "text": [
            "/usr/local/lib/python3.7/dist-packages/ipykernel_launcher.py:25: RuntimeWarning: divide by zero encountered in double_scalars\n",
            "/usr/local/lib/python3.7/dist-packages/ipykernel_launcher.py:35: RuntimeWarning: divide by zero encountered in double_scalars\n"
          ]
        }
      ]
    },
    {
      "cell_type": "markdown",
      "metadata": {
        "id": "p0466hXgp7ML"
      },
      "source": [
        "**Exercicio 1 - Resposta**\n",
        "\n",
        "Aluno: Gabriel Roger de Lira Lima\n",
        "\n",
        "Um pequeno questionamento quanto a questão proposta acima, o senhor informou para usarmos \"< tol\", mas acho que foi um erro pois a precisão da integral seria perdida, daria um valor muito distante do esperado. Acreditando que foi um erro, inverti o sinal para \"> tol\" visando optimizar o valor da precisão da integral justamente pensando que pode ter sido um erro de escrita pelo senhor. Caso não tenha sido, percebe-se que ao usar \"< tol\" o valor só tera uma iteração e será totalmente distante do valor esperado.\n",
        "\n",
        "> Percebe-se que ao utilizar ao utilizar $\\frac{|valor_2-valor_1|}{|valor_1|}>tol$ o código apresenta uma melhor aproximação do valor da integral, obtendo menor taxa de erro relativo e sem consumo excessivo de memória RAM, visto que o tempo para execução não é tão grande(Exceto se comparado a C kkk).\n",
        "\n",
        "Nota-se que o algoritmo proposto é mais eficaz que o anterior.\n",
        "\n"
      ]
    },
    {
      "cell_type": "markdown",
      "metadata": {
        "id": "mKRTNN2ew27F"
      },
      "source": [
        "**Exercicio 2 - Código**\n",
        "\n",
        "$\\int_a^b f(x) dx \\cong \\frac{\\Delta x}{3}\\left(\\left[\\sum_{i=1}^{n/2-1} \n",
        "f(x_{2i-1})+2f(x_{2i})\\right]\n",
        " + f(x_0)\\right)$ \n",
        "\n",
        "\n"
      ]
    },
    {
      "cell_type": "code",
      "metadata": {
        "colab": {
          "base_uri": "https://localhost:8080/"
        },
        "id": "HALNZPlyw6qm",
        "outputId": "215c8218-3b34-40de-9998-a1b2d9ef07f9"
      },
      "source": [
        "import numpy as np\n",
        "import time as tm\n",
        "\n",
        "def funcao_x2(x):\n",
        "  return(x**2)\n",
        "\n",
        "def intSimpson(funcao,a,b,n):\n",
        "  x = np.linspace(a,b,n)\n",
        "  delta = ((b-a)/n)/3\n",
        "  return(delta*(funcao(x[0]) + np.sum(funcao(x[1:(2*n)-1]) + 2*funcao(x[1:2*n]))))\n",
        "  \n",
        "def intAdapSimpson(funcao,a,b,n):\n",
        "  n = 1\n",
        "  v1 = intSimpson(funcao,a,b,n)\n",
        "  v2 = intSimpson(funcao,a,b,n+1)\n",
        "  while(np.abs(v2-v1)>tol):\n",
        "    n += 1\n",
        "    v2 = v1\n",
        "    v1 = intSimpson(funcao,a,b,n)\n",
        "  return(n,v2)\n",
        "\n",
        "tol = float(input('Informe o valor da tolerância do erro (Use 10^-4): '))\n",
        "\n",
        "contar_tempo = tm.time()\n",
        "iteracoes, valorInt = intAdapSimpson(funcao_x2,0,1,tol)\n",
        "finalizar_tempo = tm.time()\n",
        "tempo1 = finalizar_tempo - contar_tempo\n",
        "\n",
        "print('\\nO valor da integral sem optimização foi de,',valorInt,'obtido com',iteracoes,'iterações em',tempo1,'segundos')\n",
        "erro= np.abs((valorInt - (1/3))/(1/3))*100\n",
        "print('Erro Relativo:', round(erro,4),'%')"
      ],
      "execution_count": 23,
      "outputs": [
        {
          "output_type": "stream",
          "name": "stdout",
          "text": [
            "Informe o valor da tolerância do erro (Use 10^-4): 0.0001\n",
            "\n",
            "O valor da integral sem optimização foi de, 0.33739837398373984 obtido com 43 iterações em 0.0034487247467041016 segundos\n",
            "Erro Relativo: 1.2195 %\n"
          ]
        }
      ]
    },
    {
      "cell_type": "markdown",
      "metadata": {
        "id": "0esKGoDTVcLA"
      },
      "source": [
        "**Exercicio 2 - Resposta**\n",
        "\n",
        "Aluno: Gabriel Roger de Lira Lima\n",
        "\n",
        "Bom professor, não consegui adaptar a integral que o senhor forneceu na questão, tentei bastante mas o resultado sempre era o dobro do resultado esperado. Pensando em como resolver o problema, usei a base do método de Simpson 1/3 e escrevi um algoritmo de aproximação que traz consigo baixa iteração e alta precisão. Ao meu ver, o método de Simpson 13 apesar de ser um pouco mais lento quando comparado ao do Trapézio, ele consegue trazer mais segurança quanto a precisão dos resultados. "
      ]
    }
  ]
}